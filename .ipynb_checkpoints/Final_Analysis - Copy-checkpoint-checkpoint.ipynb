{
 "cells": [
  {
   "cell_type": "code",
   "execution_count": 1,
   "metadata": {},
   "outputs": [],
   "source": [
    "# Dependencies\n",
    "import pandas as pd\n",
    "import numpy as np\n",
    "import matplotlib.pyplot as plt"
   ]
  },
  {
   "cell_type": "code",
   "execution_count": 2,
   "metadata": {},
   "outputs": [
    {
     "name": "stdout",
     "output_type": "stream",
     "text": [
      "C:\\Users\\gupta\\Documents\\GitHub\\Project-1---Crime-Demographics-and-City-Response\\Data Cleaning\n"
     ]
    }
   ],
   "source": [
    "%run Final_Merge.ipynb"
   ]
  },
  {
   "cell_type": "code",
   "execution_count": 3,
   "metadata": {},
   "outputs": [
    {
     "data": {
      "text/html": [
       "<div>\n",
       "<style scoped>\n",
       "    .dataframe tbody tr th:only-of-type {\n",
       "        vertical-align: middle;\n",
       "    }\n",
       "\n",
       "    .dataframe tbody tr th {\n",
       "        vertical-align: top;\n",
       "    }\n",
       "\n",
       "    .dataframe thead th {\n",
       "        text-align: right;\n",
       "    }\n",
       "</style>\n",
       "<table border=\"1\" class=\"dataframe\">\n",
       "  <thead>\n",
       "    <tr style=\"text-align: right;\">\n",
       "      <th></th>\n",
       "      <th>Neighbourhood</th>\n",
       "      <th>Hood_ID</th>\n",
       "      <th>Assault Rate</th>\n",
       "      <th>Auto Theft Rate</th>\n",
       "      <th>Break&amp;Enter Rate</th>\n",
       "      <th>Homicide Rate</th>\n",
       "      <th>Robberey Rate</th>\n",
       "      <th>Theft Over Rate</th>\n",
       "      <th>Total Average Rate</th>\n",
       "      <th>Median_Income</th>\n",
       "      <th>Average_Income</th>\n",
       "      <th>Number of Starbucks Stores</th>\n",
       "      <th>Number of Red Lights</th>\n",
       "      <th>Speeding</th>\n",
       "      <th>Income Group</th>\n",
       "    </tr>\n",
       "  </thead>\n",
       "  <tbody>\n",
       "    <tr>\n",
       "      <th>0</th>\n",
       "      <td>South Parkdale</td>\n",
       "      <td>85</td>\n",
       "      <td>1148.8</td>\n",
       "      <td>91.5</td>\n",
       "      <td>407.3</td>\n",
       "      <td>4.6</td>\n",
       "      <td>151.0</td>\n",
       "      <td>100.7</td>\n",
       "      <td>317.32</td>\n",
       "      <td>35601.0</td>\n",
       "      <td>46896.0</td>\n",
       "      <td>1</td>\n",
       "      <td>2</td>\n",
       "      <td>26</td>\n",
       "      <td>25-50K</td>\n",
       "    </tr>\n",
       "    <tr>\n",
       "      <th>1</th>\n",
       "      <td>South Riverdale</td>\n",
       "      <td>70</td>\n",
       "      <td>936.3</td>\n",
       "      <td>143.5</td>\n",
       "      <td>477.1</td>\n",
       "      <td>0.0</td>\n",
       "      <td>125.6</td>\n",
       "      <td>75.3</td>\n",
       "      <td>292.97</td>\n",
       "      <td>65076.0</td>\n",
       "      <td>83491.0</td>\n",
       "      <td>1</td>\n",
       "      <td>2</td>\n",
       "      <td>20</td>\n",
       "      <td>75-100K</td>\n",
       "    </tr>\n",
       "    <tr>\n",
       "      <th>2</th>\n",
       "      <td>St.Andrew-Windfields</td>\n",
       "      <td>40</td>\n",
       "      <td>325.6</td>\n",
       "      <td>196.5</td>\n",
       "      <td>466.0</td>\n",
       "      <td>0.0</td>\n",
       "      <td>67.4</td>\n",
       "      <td>33.7</td>\n",
       "      <td>181.53</td>\n",
       "      <td>94271.0</td>\n",
       "      <td>189629.0</td>\n",
       "      <td>1</td>\n",
       "      <td>1</td>\n",
       "      <td>3</td>\n",
       "      <td>175-200K</td>\n",
       "    </tr>\n",
       "    <tr>\n",
       "      <th>3</th>\n",
       "      <td>Taylor-Massey</td>\n",
       "      <td>61</td>\n",
       "      <td>777.9</td>\n",
       "      <td>76.5</td>\n",
       "      <td>401.7</td>\n",
       "      <td>6.4</td>\n",
       "      <td>82.9</td>\n",
       "      <td>19.1</td>\n",
       "      <td>227.42</td>\n",
       "      <td>40915.0</td>\n",
       "      <td>51242.0</td>\n",
       "      <td>0</td>\n",
       "      <td>0</td>\n",
       "      <td>4</td>\n",
       "      <td>50-75K</td>\n",
       "    </tr>\n",
       "    <tr>\n",
       "      <th>4</th>\n",
       "      <td>Humber Summit</td>\n",
       "      <td>21</td>\n",
       "      <td>950.4</td>\n",
       "      <td>1087.3</td>\n",
       "      <td>459.1</td>\n",
       "      <td>24.2</td>\n",
       "      <td>225.5</td>\n",
       "      <td>177.2</td>\n",
       "      <td>487.28</td>\n",
       "      <td>57786.0</td>\n",
       "      <td>68431.0</td>\n",
       "      <td>0</td>\n",
       "      <td>3</td>\n",
       "      <td>23</td>\n",
       "      <td>50-75K</td>\n",
       "    </tr>\n",
       "  </tbody>\n",
       "</table>\n",
       "</div>"
      ],
      "text/plain": [
       "          Neighbourhood  Hood_ID  Assault Rate  Auto Theft Rate  \\\n",
       "0        South Parkdale       85        1148.8             91.5   \n",
       "1       South Riverdale       70         936.3            143.5   \n",
       "2  St.Andrew-Windfields       40         325.6            196.5   \n",
       "3         Taylor-Massey       61         777.9             76.5   \n",
       "4         Humber Summit       21         950.4           1087.3   \n",
       "\n",
       "   Break&Enter Rate  Homicide Rate  Robberey Rate  Theft Over Rate  \\\n",
       "0             407.3            4.6          151.0            100.7   \n",
       "1             477.1            0.0          125.6             75.3   \n",
       "2             466.0            0.0           67.4             33.7   \n",
       "3             401.7            6.4           82.9             19.1   \n",
       "4             459.1           24.2          225.5            177.2   \n",
       "\n",
       "   Total Average Rate  Median_Income  Average_Income  \\\n",
       "0              317.32        35601.0         46896.0   \n",
       "1              292.97        65076.0         83491.0   \n",
       "2              181.53        94271.0        189629.0   \n",
       "3              227.42        40915.0         51242.0   \n",
       "4              487.28        57786.0         68431.0   \n",
       "\n",
       "   Number of Starbucks Stores  Number of Red Lights  Speeding Income Group  \n",
       "0                           1                     2        26       25-50K  \n",
       "1                           1                     2        20      75-100K  \n",
       "2                           1                     1         3     175-200K  \n",
       "3                           0                     0         4       50-75K  \n",
       "4                           0                     3        23       50-75K  "
      ]
     },
     "execution_count": 3,
     "metadata": {},
     "output_type": "execute_result"
    }
   ],
   "source": [
    "final_df.head()"
   ]
  },
  {
   "cell_type": "markdown",
   "metadata": {},
   "source": [
    "## Crime Count and Income"
   ]
  },
  {
   "cell_type": "code",
   "execution_count": 119,
   "metadata": {},
   "outputs": [
    {
     "name": "stdout",
     "output_type": "stream",
     "text": [
      "Income Group\n",
      "<25K         0\n",
      "25-50K       3\n",
      "50-75K      59\n",
      "75-100K     45\n",
      "100-125K    11\n",
      "125-150K     6\n",
      "150-175K     3\n",
      "175-200K     4\n",
      "200-225K     0\n",
      "225-250K     3\n",
      "250K+        1\n",
      "Name: Total Average Rate, dtype: int64\n"
     ]
    },
    {
     "data": {
      "image/png": "[encoded data removed]",
      "text/plain": [
       "<Figure size 864x432 with 1 Axes>"
      ]
     },
     "metadata": {
      "needs_background": "light"
     },
     "output_type": "display_data"
    }
   ],
   "source": [
    "#plot bar graph\n",
    "sorted_df = final_df.sort_values(\"Average_Income\")\n",
    "\n",
    "# Calculate the total average rate for each Income group\n",
    "sorted_grouped_df = sorted_df.groupby([\"Income Group\"]).count()[\"Total Average Rate\"] \n",
    "print(sorted_grouped_df)\n",
    "sorted_grouped_df.plot(kind ='bar',x='Income Group', y = \"Total Average Rate\", color = 'red',figsize=(12,6))\n",
    "\n",
    "# Set labels for axes\n",
    "plt.xlabel(\"Income Group\",fontsize = 14)\n",
    "plt.ylabel(\"Total Average Rate\",fontsize = 14)\n",
    "plt.title(\"Crime rate vs. Income Range\",fontsize = 20)\n",
    "\n",
    "#Save the output and display resulting plot\n",
    "plt.savefig(\"Crime_rate_vs._Income_Range.png\", bbox_inches = \"tight\")\n",
    "plt.tight_layout()\n",
    "plt.show()"
   ]
  },
  {
   "cell_type": "code",
   "execution_count": 112,
   "metadata": {},
   "outputs": [
    {
     "data": {
      "text/html": [
       "<div>\n",
       "<style scoped>\n",
       "    .dataframe tbody tr th:only-of-type {\n",
       "        vertical-align: middle;\n",
       "    }\n",
       "\n",
       "    .dataframe tbody tr th {\n",
       "        vertical-align: top;\n",
       "    }\n",
       "\n",
       "    .dataframe thead th {\n",
       "        text-align: right;\n",
       "    }\n",
       "</style>\n",
       "<table border=\"1\" class=\"dataframe\">\n",
       "  <thead>\n",
       "    <tr style=\"text-align: right;\">\n",
       "      <th></th>\n",
       "      <th>Assault Rate</th>\n",
       "      <th>Auto Theft Rate</th>\n",
       "      <th>Break&amp;Enter Rate</th>\n",
       "      <th>Homicide Rate</th>\n",
       "      <th>Robberey Rate</th>\n",
       "      <th>Theft Over Rate</th>\n",
       "    </tr>\n",
       "    <tr>\n",
       "      <th>Income Group</th>\n",
       "      <th></th>\n",
       "      <th></th>\n",
       "      <th></th>\n",
       "      <th></th>\n",
       "      <th></th>\n",
       "      <th></th>\n",
       "    </tr>\n",
       "  </thead>\n",
       "  <tbody>\n",
       "    <tr>\n",
       "      <th>&lt;25K</th>\n",
       "      <td>0.0</td>\n",
       "      <td>0.0</td>\n",
       "      <td>0.0</td>\n",
       "      <td>0.0</td>\n",
       "      <td>0.0</td>\n",
       "      <td>0.0</td>\n",
       "    </tr>\n",
       "    <tr>\n",
       "      <th>25-50K</th>\n",
       "      <td>3705.1</td>\n",
       "      <td>358.1</td>\n",
       "      <td>1370.1</td>\n",
       "      <td>13.9</td>\n",
       "      <td>511.7</td>\n",
       "      <td>190.3</td>\n",
       "    </tr>\n",
       "    <tr>\n",
       "      <th>50-75K</th>\n",
       "      <td>50772.2</td>\n",
       "      <td>12656.7</td>\n",
       "      <td>16909.5</td>\n",
       "      <td>255.1</td>\n",
       "      <td>8845.3</td>\n",
       "      <td>2708.5</td>\n",
       "    </tr>\n",
       "    <tr>\n",
       "      <th>75-100K</th>\n",
       "      <td>29470.3</td>\n",
       "      <td>7752.4</td>\n",
       "      <td>13399.4</td>\n",
       "      <td>113.3</td>\n",
       "      <td>4710.0</td>\n",
       "      <td>2273.2</td>\n",
       "    </tr>\n",
       "    <tr>\n",
       "      <th>100-125K</th>\n",
       "      <td>5560.8</td>\n",
       "      <td>1732.2</td>\n",
       "      <td>3507.2</td>\n",
       "      <td>15.5</td>\n",
       "      <td>1085.3</td>\n",
       "      <td>524.3</td>\n",
       "    </tr>\n",
       "  </tbody>\n",
       "</table>\n",
       "</div>"
      ],
      "text/plain": [
       "              Assault Rate  Auto Theft Rate  Break&Enter Rate  Homicide Rate  \\\n",
       "Income Group                                                                   \n",
       "<25K                   0.0              0.0               0.0            0.0   \n",
       "25-50K              3705.1            358.1            1370.1           13.9   \n",
       "50-75K             50772.2          12656.7           16909.5          255.1   \n",
       "75-100K            29470.3           7752.4           13399.4          113.3   \n",
       "100-125K            5560.8           1732.2            3507.2           15.5   \n",
       "\n",
       "              Robberey Rate  Theft Over Rate  \n",
       "Income Group                                  \n",
       "<25K                    0.0              0.0  \n",
       "25-50K                511.7            190.3  \n",
       "50-75K               8845.3           2708.5  \n",
       "75-100K              4710.0           2273.2  \n",
       "100-125K             1085.3            524.3  "
      ]
     },
     "execution_count": 112,
     "metadata": {},
     "output_type": "execute_result"
    }
   ],
   "source": [
    "#plot bar graph\n",
    "colors = ['crimson','gold','limegreen','darkgoldenrod','plum','royalblue']\n",
    "grouped_df =final_df.groupby([\"Income Group\"]).agg(\n",
    "    {\n",
    "         'Assault Rate':sum,    \n",
    "         'Auto Theft Rate': sum,  \n",
    "         'Break&Enter Rate': sum , \n",
    "        'Homicide Rate': sum,\n",
    "        'Robberey Rate': sum,\n",
    "        'Theft Over Rate': sum\n",
    "    }\n",
    ")\n",
    "\n",
    "grouped_df.head()\n"
   ]
  },
  {
   "cell_type": "code",
   "execution_count": 118,
   "metadata": {},
   "outputs": [
    {
     "data": {
      "image/png": "[encoded data removed]",
      "text/plain": [
       "<Figure size 1008x504 with 1 Axes>"
      ]
     },
     "metadata": {
      "needs_background": "light"
     },
     "output_type": "display_data"
    }
   ],
   "source": [
    "grouped_df.plot(kind ='bar', stacked = True,color = colors,figsize=(14,7))\n",
    "\n",
    "# Set labels for axes\n",
    "plt.xticks(rotation=90,fontsize = 13)\n",
    "plt.xlabel(\"Income Group\",fontsize = 15)\n",
    "plt.ylabel(\"Total Crime Count\",fontsize = 15)\n",
    "plt.title(\"Crime Count vs. Income Range\",fontsize = 20)\n",
    "#plt.grid(True)\n",
    "\n",
    "#Save the output and display resulting plot\n",
    "plt.savefig(\"Crime_Count_vs._Income_Range.png\", bbox_inches = \"tight\")\n",
    "plt.tight_layout()\n",
    "plt.show()\n"
   ]
  },
  {
   "cell_type": "code",
   "execution_count": null,
   "metadata": {},
   "outputs": [],
   "source": []
  }
 ],
 "metadata": {
  "kernelspec": {
   "display_name": "Python 3",
   "language": "python",
   "name": "python3"
  },
  "language_info": {
   "codemirror_mode": {
    "name": "ipython",
    "version": 3
   },
   "file_extension": ".py",
   "mimetype": "text/x-python",
   "name": "python",
   "nbconvert_exporter": "python",
   "pygments_lexer": "ipython3",
   "version": "3.8.3"
  }
 },
 "nbformat": 4,
 "nbformat_minor": 4
}
